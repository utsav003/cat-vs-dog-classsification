{
 "cells": [
  {
   "cell_type": "code",
   "execution_count": 55,
   "metadata": {},
   "outputs": [],
   "source": [
    "import numpy as np \n",
    "import pandas as pd \n",
    "import matplotlib.pyplot as plt\n",
    "from sklearn.model_selection import train_test_split\n",
    "from sklearn.neighbors import KNeighborsClassifier\n",
    "from sklearn.linear_model import LogisticRegression\n",
    "from sklearn.naive_bayes import GaussianNB\n",
    "from sklearn import svm\n",
    "import glob\n",
    "import cv2\n",
    "from sklearn import metrics\n",
    "import seaborn as sns\n",
    "%matplotlib inline"
   ]
  },
  {
   "cell_type": "code",
   "execution_count": 56,
   "metadata": {},
   "outputs": [],
   "source": [
    "# created parent class for training of data\n",
    "\n",
    "class train:\n",
    "    def animal(self, cat, dog):\n",
    "        #function name animal is used and path of the folder is passed in the parameters\n",
    "        cats_dogs = []\n",
    "        file=glob.glob(cat)\n",
    "        file2=glob.glob(dog)\n",
    "\n",
    "        for i in file:\n",
    "            img= cv2.imread(i,0)\n",
    "            img = cv2.resize(img, dsize=(250, 250))\n",
    "            cats_dogs.append(img)\n",
    "\n",
    "        for i in file2:\n",
    "            img=cv2.imread(i,0)\n",
    "            img = cv2.resize(img, dsize=(250, 250))\n",
    "            cats_dogs.append(img)\n",
    "\n",
    "        self.cats_dogs = np.asarray(cats_dogs)\n",
    "        # In list name cats_dogs all images of cats and dogs are stored.\n",
    "        \n",
    "    def shape(self):\n",
    "        X = self.cats_dogs\n",
    "        zeros = np.zeros(402) \n",
    "        ones = np.ones(402) \n",
    "        Y = np.concatenate((zeros,ones),axis=0)\n",
    "        print(\"Shape of X =\", X.shape)\n",
    "        print(\"Shape of Y =\", Y.shape)\n",
    "        # Above print statement suggest shape of both input variable X and output variable Y\n",
    "        \n",
    "        self.X_train, self.X_test, self.Y_train, self.Y_test = train_test_split(X, Y, test_size=0.15, random_state=0)\n",
    "        self.num_train = self.X_train.shape[0]\n",
    "        self.num_test = self.X_test.shape[0]\n",
    "        print(\"Data supplied in training phase = \",self.num_train)\n",
    "        print(\"Data supplied in testing phase = \",self.num_test)\n",
    "        #Above the data supplied is split into training and testing  with 85% data in training and rest in testing.\n",
    "        \n",
    "    def merge_transpose(self):\n",
    "        self.X_train_dimen = self.X_train.reshape(self.num_train, self.X_train.shape[1]*self.X_train.shape[2])\n",
    "        self.X_test_dimen = self.X_test.reshape(self.num_test, self.X_test.shape[1]*self.X_test.shape[2])\n",
    "        print(\"X Train flat Shape: \" ,self.X_train_dimen.shape)\n",
    "        print(\"X Test flat Shape: \" ,self.X_test_dimen.shape)\n",
    "        # Here the dimension reductionality is used to combine 250*250 \n",
    "        \n",
    "        self.x_train =self.X_train_dimen.T\n",
    "        self.x_test = self.X_test_dimen.T\n",
    "        self.y_train =self.Y_train.T\n",
    "        self.y_test = self.Y_test.T\n",
    "        print(\"x train shape = \",self.x_train.shape)\n",
    "        print(\"x test shape = \",self.x_test.shape)\n",
    "        print(\"y train shape = \",self.y_train.shape)\n",
    "        print(\"y test shape = \",self.y_test.shape)\n",
    "        # .T function is used to transpose the shape of the variable\n",
    "        \n",
    "#New class knn is defined which inherit train class.\n",
    "class knn(train):\n",
    "    def classification_knn(self):\n",
    "        #Below for loop is used to check accuracy of the model with different k values\n",
    "        for k in range(1):\n",
    "            k_value =k+1\n",
    "            model = KNeighborsClassifier(n_neighbors = k_value)\n",
    "            model.fit(self.x_train.T,self.y_train.T)\n",
    "            self.y_pred = model.predict(self.x_test.T)\n",
    "            print(k_value ,\"=\", metrics.accuracy_score(self.y_test.T,self.y_pred))\n",
    "        \n",
    "        # With k value = 5 best accuracy is obtained so we have used it and trained the model with k_value = 5\n",
    "        model = KNeighborsClassifier(n_neighbors = 5)\n",
    "        model.fit(self.x_train.T,self.y_train.T)\n",
    "        \n",
    "        self.pred = model.predict(self.x_test.T)\n",
    "        #prediction of x_test value is done and accuracy for the same is occured.\n",
    "        \n",
    "        print(metrics.accuracy_score(self.y_test.T,self.pred)*100,\"% accuracy\") \n",
    "        \n",
    "        cnf = metrics.confusion_matrix(self.y_test,self.pred)\n",
    "        class_names=[0,1]\n",
    "        fig, ax = plt.subplots()\n",
    "        tick_marks = np.arange(len(class_names))\n",
    "        plt.xticks(tick_marks, class_names)\n",
    "        plt.yticks(tick_marks, class_names)\n",
    "        sns.heatmap(pd.DataFrame(cnf), annot=True, cmap=\"YlGnBu\" ,fmt='g')\n",
    "        ax.xaxis.set_label_position(\"top\")\n",
    "        plt.tight_layout()\n",
    "        plt.title('Confusion matrix', y=1.1)\n",
    "        plt.ylabel('Actual label')\n",
    "        plt.xlabel('Predicted label')\n",
    "        # Confusion matrix with heatmap is made for better vizualiation and to see miss classification\n",
    "        \n",
    "        \n",
    "        \n",
    "        \n",
    "\n",
    "#New class SVM is defined which inherit train class.        \n",
    "class SVM(train):\n",
    "    def classification_SVM(self):\n",
    "        #SVM fn called with for acurracy of model\n",
    "        \n",
    "        model = svm.SVC(kernel='linear')\n",
    "        model.fit(self.x_train.T,self.y_train.T)\n",
    "        self.pred = model.predict(self.x_test.T)\n",
    "        print(metrics.accuracy_score(self.y_test.T,self.pred)*100,\"% accuracy\") \n",
    "        \n",
    "        cnf = metrics.confusion_matrix(self.y_test,self.pred)\n",
    "        class_names=[0,1]\n",
    "        fig, ax = plt.subplots()\n",
    "        tick_marks = np.arange(len(class_names))\n",
    "        plt.xticks(tick_marks, class_names)\n",
    "        plt.yticks(tick_marks, class_names)\n",
    "        sns.heatmap(pd.DataFrame(cnf), annot=True, cmap=\"YlGnBu\" ,fmt='g')\n",
    "        ax.xaxis.set_label_position(\"top\")\n",
    "        plt.tight_layout()\n",
    "        plt.title('Confusion matrix', y=1.1)\n",
    "        plt.ylabel('Actual label')\n",
    "        plt.xlabel('Predicted label')\n",
    "        # Confusion matrix with heatmap is made for better vizualiation and to see miss classification\n",
    "\n",
    "        \n",
    "#New class NB(Naive Bayes) is defined which inherit train class.           \n",
    "class NB(train):\n",
    "    def classification_NB(self):\n",
    "        #NB fn called for accuracy of model\n",
    "\n",
    "        model = GaussianNB()\n",
    "        model.fit(self.x_train.T,self.y_train.T)\n",
    "        self.pred = model.predict(self.x_test.T)\n",
    "        print(metrics.accuracy_score(self.y_test.T,self.pred)*100,\"% accuracy\") \n",
    "        \n",
    "        cnf = metrics.confusion_matrix(self.y_test,self.pred)\n",
    "        class_names=[0,1]\n",
    "        fig, ax = plt.subplots()\n",
    "        tick_marks = np.arange(len(class_names))\n",
    "        plt.xticks(tick_marks, class_names)\n",
    "        plt.yticks(tick_marks, class_names)\n",
    "        sns.heatmap(pd.DataFrame(cnf), annot=True, cmap=\"YlGnBu\" ,fmt='g')\n",
    "        ax.xaxis.set_label_position(\"top\")\n",
    "        plt.tight_layout()\n",
    "        plt.title('Confusion matrix', y=1.1)\n",
    "        plt.ylabel('Actual label')\n",
    "        plt.xlabel('Predicted label')\n",
    "        # Confusion matrix with heatmap is made for better vizualiation and to see miss classification\n",
    "        \n",
    "        \n",
    "\n",
    "#New class LR(Logistic Regression) is defined which inherit train class.           \n",
    "class LR(train):\n",
    "    def classification_LR(self):\n",
    "        #Logistic fn called with 15 times irreration\n",
    "\n",
    "        model = LogisticRegression(random_state = 0,max_iter= 15)\n",
    "        model.fit(self.x_train.T,self.y_train.T)\n",
    "        self.pred = model.predict(self.x_test.T)\n",
    "        print(metrics.accuracy_score(self.y_test.T,self.pred)*100,\"% accuracy\") \n",
    "        \n",
    "        cnf = metrics.confusion_matrix(self.y_test,self.pred)\n",
    "        class_names=[0,1]\n",
    "        fig, ax = plt.subplots()\n",
    "        tick_marks = np.arange(len(class_names))\n",
    "        plt.xticks(tick_marks, class_names)\n",
    "        plt.yticks(tick_marks, class_names)\n",
    "        sns.heatmap(pd.DataFrame(cnf), annot=True, cmap=\"YlGnBu\" ,fmt='g')\n",
    "        ax.xaxis.set_label_position(\"top\")\n",
    "        plt.tight_layout()\n",
    "        plt.title('Confusion matrix', y=1.1)\n",
    "        plt.ylabel('Actual label')\n",
    "        plt.xlabel('Predicted label')\n",
    "        # Confusion matrix with heatmap is made for better vizualiation and to see miss classification\n",
    "        \n",
    "        \n",
    "        \n",
    "        \n",
    "        \n",
    "#Child class validate is class which inherit the properties of all parent class.\n",
    "class validate(knn, SVM, NB, LR):\n",
    "    def validate_animal(self, link):\n",
    "        #In the above function the path of folder is given to access the images stored for testing.\n",
    "        cats_dogs_valid = []\n",
    "        file=glob.glob(link)\n",
    "\n",
    "        for i in file:\n",
    "            img= cv2.imread(i,0)\n",
    "            img = cv2.resize(img, dsize=(250, 250))\n",
    "            cats_dogs_valid.append(img)\n",
    "\n",
    "        self.X_valid = np.asarray(cats_dogs_valid)\n",
    "        \n",
    "    def knn_predic(self):\n",
    "        #Here the function pred is used to predict the images supplied belogs to dog or cat. \n",
    "        self.num_X_valid = self.X_valid.shape[0]\n",
    "        #print(\"Total elemenmts in testing are = \",self.num_X_valid)\n",
    "        \n",
    "        self.X_valid_dimen = self.X_valid.reshape(self.num_X_valid ,self.X_valid.shape[1]*self.X_valid.shape[2])\n",
    "        #print(self.X_valid_dimen.shape)\n",
    "        \n",
    "        self.x_valid = self.X_valid_dimen.T\n",
    "        #print(self.x_valid.shape)\n",
    "        \n",
    "        model = KNeighborsClassifier(n_neighbors = 5)\n",
    "        model.fit(self.x_train.T,self.y_train.T)\n",
    "        self.pred_valid = model.predict(self.x_valid.T)\n",
    "        print(\"Predicted values = \",self.pred_valid)\n",
    "        \n",
    "        prediction = pd.DataFrame(self.pred_valid,index = None, columns=['predictions']).to_csv('D:/cerebroz_assignment/output/prediction_knn.csv')\n",
    "        \n",
    "    def SVM_predic(self):\n",
    "        #Here the function pred is used to predict the images supplied belogs to dog or cat. \n",
    "        self.num_X_valid = self.X_valid.shape[0]\n",
    "        #print(\"Total elemenmts in testing are = \",self.num_X_valid)\n",
    "        \n",
    "        self.X_valid_dimen = self.X_valid.reshape(self.num_X_valid ,self.X_valid.shape[1]*self.X_valid.shape[2])\n",
    "        #print(self.X_valid_dimen.shape)\n",
    "        \n",
    "        self.x_valid = self.X_valid_dimen.T\n",
    "        #print(self.x_valid.shape)\n",
    "        \n",
    "        model = svm.SVC(kernel='linear')\n",
    "        model.fit(self.x_train.T,self.y_train.T)\n",
    "        self.pred_valid = model.predict(self.x_valid.T)\n",
    "        print(\"Predicted values = \",self.pred_valid)\n",
    "        \n",
    "        prediction = pd.DataFrame(self.pred_valid,index = None, columns=['predictions']).to_csv('D:/cerebroz_assignment/output/prediction_SVM.csv')\n",
    "        \n",
    "        \n",
    "    def NB_predic(self):\n",
    "        #Here the function pred is used to predict the images supplied belogs to dog or cat. \n",
    "        self.num_X_valid = self.X_valid.shape[0]\n",
    "        #print(\"Total elemenmts in testing are = \",self.num_X_valid)\n",
    "        \n",
    "        self.X_valid_dimen = self.X_valid.reshape(self.num_X_valid ,self.X_valid.shape[1]*self.X_valid.shape[2])\n",
    "        #print(self.X_valid_dimen.shape)\n",
    "        \n",
    "        self.x_valid = self.X_valid_dimen.T\n",
    "        #print(self.x_valid.shape)\n",
    "        \n",
    "        model = GaussianNB()\n",
    "        model.fit(self.x_train.T,self.y_train.T)\n",
    "        self.pred_valid = model.predict(self.x_valid.T)\n",
    "        print(\"Predicted values = \",self.pred_valid)\n",
    "        \n",
    "        prediction = pd.DataFrame(self.pred_valid,index = None, columns=['predictions']).to_csv('D:/cerebroz_assignment/output/prediction_NB.csv')\n",
    "        \n",
    "        \n",
    "    def LR_predic(self):\n",
    "        #Here the function pred is used to predict the images supplied belogs to dog or cat. \n",
    "        self.num_X_valid = self.X_valid.shape[0]\n",
    "        #print(\"Total elemenmts in testing are = \",self.num_X_valid)\n",
    "        \n",
    "        self.X_valid_dimen = self.X_valid.reshape(self.num_X_valid ,self.X_valid.shape[1]*self.X_valid.shape[2])\n",
    "        #print(self.X_valid_dimen.shape)\n",
    "        \n",
    "        self.x_valid = self.X_valid_dimen.T\n",
    "        #print(self.x_valid.shape)\n",
    "        \n",
    "        model = LogisticRegression(random_state = 0,max_iter= 15)\n",
    "        model.fit(self.x_train.T,self.y_train.T)\n",
    "        self.pred_valid = model.predict(self.x_valid.T)\n",
    "        print(\"Predicted values = \",self.pred_valid)\n",
    "        \n",
    "        prediction = pd.DataFrame(self.pred_valid,index = None, columns=['predictions']).to_csv('D:/cerebroz_assignment/output/prediction_LR.csv')"
   ]
  },
  {
   "cell_type": "code",
   "execution_count": 57,
   "metadata": {},
   "outputs": [],
   "source": [
    "# object is created of child class which can be used to call function of parent class also.\n",
    "obj = validate()"
   ]
  },
  {
   "cell_type": "code",
   "execution_count": 58,
   "metadata": {},
   "outputs": [],
   "source": [
    "#in function animal path for folder dog and cat is set\n",
    "obj.animal(\"D:/cerebroz_assignment/train/cats/*\",\"D:/cerebroz_assignment/train/dogs/*\")"
   ]
  },
  {
   "cell_type": "code",
   "execution_count": 59,
   "metadata": {},
   "outputs": [
    {
     "name": "stdout",
     "output_type": "stream",
     "text": [
      "Shape of X = (804, 250, 250)\n",
      "Shape of Y = (804,)\n",
      "Data supplied in training phase =  683\n",
      "Data supplied in testing phase =  121\n"
     ]
    }
   ],
   "source": [
    "# It depicts the shape for X and Y variable and data splited for train and test\n",
    "obj.shape()"
   ]
  },
  {
   "cell_type": "code",
   "execution_count": 60,
   "metadata": {},
   "outputs": [
    {
     "name": "stdout",
     "output_type": "stream",
     "text": [
      "X Train flat Shape:  (683, 62500)\n",
      "X Test flat Shape:  (121, 62500)\n",
      "x train shape =  (62500, 683)\n",
      "x test shape =  (62500, 121)\n",
      "y train shape =  (683,)\n",
      "y test shape =  (121,)\n"
     ]
    }
   ],
   "source": [
    "# In merge_transpose training and testing variable is flatten and then shape is obtained for the same.\n",
    "obj.merge_transpose()"
   ]
  },
  {
   "cell_type": "code",
   "execution_count": 61,
   "metadata": {},
   "outputs": [
    {
     "name": "stdout",
     "output_type": "stream",
     "text": [
      "1 = 0.5537190082644629\n",
      "61.15702479338842 % accuracy\n"
     ]
    },
    {
     "data": {
      "image/png": "[encoded data removed]",
      "text/plain": [
       "<Figure size 432x288 with 2 Axes>"
      ]
     },
     "metadata": {
      "needs_background": "light"
     },
     "output_type": "display_data"
    }
   ],
   "source": [
    "# classification_knn class gets the accuarcy for the model and shows heatmap for confusion matrix\n",
    "obj.classification_knn()"
   ]
  },
  {
   "cell_type": "code",
   "execution_count": 62,
   "metadata": {},
   "outputs": [
    {
     "name": "stdout",
     "output_type": "stream",
     "text": [
      "52.892561983471076 % accuracy\n"
     ]
    },
    {
     "data": {
      "image/png": "[encoded data removed]",
      "text/plain": [
       "<Figure size 432x288 with 2 Axes>"
      ]
     },
     "metadata": {
      "needs_background": "light"
     },
     "output_type": "display_data"
    }
   ],
   "source": [
    "# classification_SVM class gets the accuarcy for the model and shows heatmap for confusion matrix\n",
    "obj.classification_SVM()"
   ]
  },
  {
   "cell_type": "code",
   "execution_count": 63,
   "metadata": {},
   "outputs": [
    {
     "name": "stdout",
     "output_type": "stream",
     "text": [
      "57.02479338842975 % accuracy\n"
     ]
    },
    {
     "data": {
      "image/png": "[encoded data removed]",
      "text/plain": [
       "<Figure size 432x288 with 2 Axes>"
      ]
     },
     "metadata": {
      "needs_background": "light"
     },
     "output_type": "display_data"
    }
   ],
   "source": [
    "# classification_NB class gets the accuarcy for the model and shows heatmap for confusion matrix\n",
    "obj.classification_NB()"
   ]
  },
  {
   "cell_type": "code",
   "execution_count": 64,
   "metadata": {},
   "outputs": [
    {
     "name": "stderr",
     "output_type": "stream",
     "text": [
      "C:\\Users\\UTSAV\\Anaconda3\\lib\\site-packages\\sklearn\\linear_model\\logistic.py:433: FutureWarning: Default solver will be changed to 'lbfgs' in 0.22. Specify a solver to silence this warning.\n",
      "  FutureWarning)\n"
     ]
    },
    {
     "name": "stdout",
     "output_type": "stream",
     "text": [
      "48.760330578512395 % accuracy\n"
     ]
    },
    {
     "data": {
      "image/png": "[encoded data removed]",
      "text/plain": [
       "<Figure size 432x288 with 2 Axes>"
      ]
     },
     "metadata": {
      "needs_background": "light"
     },
     "output_type": "display_data"
    }
   ],
   "source": [
    "# classification_LR class gets the accuarcy for the model and shows heatmap for confusion matrix\n",
    "obj.classification_LR()"
   ]
  },
  {
   "cell_type": "code",
   "execution_count": 65,
   "metadata": {},
   "outputs": [],
   "source": [
    "# Here path of testing data is supplied\n",
    "obj.validate_animal(\"D:/cerebroz_assignment/test/*\")"
   ]
  },
  {
   "cell_type": "code",
   "execution_count": 66,
   "metadata": {},
   "outputs": [
    {
     "name": "stdout",
     "output_type": "stream",
     "text": [
      "Predicted values =  [0. 0. 0. 0. 1. 0. 0. 1. 0. 0. 0. 0. 1. 1. 0. 0. 0. 1. 1. 0. 0. 1. 0. 1.\n",
      " 1. 1. 0. 1. 0. 1. 1. 0. 0. 0. 0. 1. 1. 0. 1. 1. 0. 1. 0. 0. 1. 0. 1. 1.\n",
      " 0. 1. 0. 0. 1. 0. 0. 0. 1. 0. 0. 0. 0. 0. 1. 1. 1. 1. 1. 0. 0. 1. 1. 1.\n",
      " 1. 0. 1. 0. 0. 1. 0. 1. 0. 1. 0. 0. 1. 1. 1. 1. 1. 0. 0. 1. 1. 0. 0. 1.\n",
      " 0. 0. 0. 0. 1. 0. 0. 0. 1. 1. 1. 0. 1. 1. 0. 0. 0. 1. 0. 0. 0. 0. 0. 1.\n",
      " 1. 1. 1. 0. 1. 0. 1. 0. 1. 1. 1. 1. 0. 1. 0. 1. 0. 0. 0. 0. 0. 0. 1. 1.\n",
      " 1. 1. 0. 1. 1. 0. 1. 0. 1. 0. 0. 0. 1. 1. 0. 0. 1. 0. 1. 0. 1. 1. 0. 0.\n",
      " 1. 1. 0. 0. 1. 0. 1. 0. 1. 0. 1. 0. 0. 1. 1. 0. 1. 1. 0. 0. 0. 0. 1. 0.\n",
      " 1. 0. 0. 1. 1. 1. 1. 0. 1. 1. 0. 0. 1. 0. 0. 0. 1. 1. 0. 0. 0. 0. 1. 0.\n",
      " 1. 0. 1. 0. 0. 0. 0. 0. 1. 1. 0. 1. 0. 1. 1. 0. 0. 0. 1. 1. 0. 0. 1. 0.\n",
      " 1. 1. 1. 1. 0. 0. 1. 1. 1. 0. 1. 1.]\n"
     ]
    }
   ],
   "source": [
    "# Prediction of data is done for KNN algorithm.\n",
    "obj.knn_predic()"
   ]
  },
  {
   "cell_type": "code",
   "execution_count": 67,
   "metadata": {},
   "outputs": [
    {
     "name": "stdout",
     "output_type": "stream",
     "text": [
      "Predicted values =  [0. 0. 0. 0. 0. 1. 0. 1. 0. 1. 0. 0. 0. 0. 0. 1. 0. 1. 0. 1. 0. 0. 1. 1.\n",
      " 1. 0. 0. 1. 0. 0. 1. 1. 1. 1. 0. 0. 0. 0. 1. 0. 0. 1. 0. 1. 1. 1. 1. 1.\n",
      " 1. 1. 0. 1. 0. 0. 0. 0. 1. 0. 0. 0. 1. 1. 1. 1. 1. 1. 1. 0. 0. 1. 0. 0.\n",
      " 0. 0. 1. 0. 1. 0. 0. 0. 1. 0. 1. 1. 0. 1. 1. 0. 0. 0. 0. 0. 0. 0. 0. 1.\n",
      " 0. 0. 0. 0. 1. 1. 0. 1. 1. 0. 1. 0. 0. 0. 0. 1. 1. 0. 0. 1. 0. 0. 0. 0.\n",
      " 0. 0. 1. 1. 1. 0. 0. 0. 0. 0. 1. 0. 1. 0. 0. 1. 0. 0. 0. 1. 0. 0. 0. 1.\n",
      " 0. 0. 0. 0. 0. 1. 1. 0. 0. 1. 0. 0. 1. 1. 0. 0. 1. 0. 0. 0. 1. 1. 1. 1.\n",
      " 0. 1. 0. 0. 0. 0. 0. 1. 0. 0. 0. 1. 0. 0. 0. 0. 1. 0. 0. 0. 0. 0. 1. 0.\n",
      " 1. 0. 1. 1. 1. 0. 1. 1. 0. 0. 0. 0. 1. 0. 0. 1. 0. 0. 0. 0. 0. 0. 0. 0.\n",
      " 1. 0. 0. 0. 0. 1. 0. 1. 0. 0. 0. 0. 1. 1. 1. 0. 1. 1. 1. 1. 1. 1. 0. 1.\n",
      " 1. 0. 0. 1. 0. 0. 0. 0. 0. 0. 0. 0.]\n"
     ]
    }
   ],
   "source": [
    "# Prediction of data is done for SVM algorithm.\n",
    "obj.SVM_predic()"
   ]
  },
  {
   "cell_type": "code",
   "execution_count": 68,
   "metadata": {},
   "outputs": [
    {
     "name": "stdout",
     "output_type": "stream",
     "text": [
      "Predicted values =  [0. 0. 0. 1. 1. 0. 0. 1. 1. 0. 0. 1. 1. 1. 1. 1. 1. 1. 1. 0. 0. 1. 0. 1.\n",
      " 1. 1. 0. 1. 1. 1. 1. 1. 0. 0. 0. 0. 0. 1. 0. 1. 0. 1. 0. 1. 1. 0. 1. 0.\n",
      " 0. 1. 1. 0. 0. 0. 0. 0. 1. 1. 1. 0. 1. 1. 1. 1. 1. 1. 1. 0. 1. 0. 1. 1.\n",
      " 1. 0. 0. 0. 0. 1. 0. 1. 0. 1. 0. 0. 1. 1. 1. 1. 1. 1. 0. 1. 1. 1. 0. 1.\n",
      " 0. 1. 1. 0. 1. 0. 0. 1. 1. 0. 0. 0. 1. 0. 0. 1. 0. 1. 1. 0. 0. 1. 0. 0.\n",
      " 1. 0. 1. 0. 0. 1. 1. 1. 1. 0. 1. 1. 1. 1. 0. 0. 0. 1. 0. 0. 0. 0. 0. 1.\n",
      " 1. 1. 1. 0. 0. 1. 1. 0. 1. 1. 0. 1. 1. 0. 1. 0. 0. 0. 1. 0. 1. 0. 0. 1.\n",
      " 1. 0. 0. 0. 1. 0. 1. 1. 1. 1. 0. 1. 1. 0. 1. 0. 0. 1. 1. 1. 1. 0. 0. 1.\n",
      " 1. 0. 1. 0. 1. 0. 0. 0. 1. 0. 0. 0. 1. 1. 0. 1. 1. 0. 1. 1. 0. 0. 1. 0.\n",
      " 1. 1. 1. 1. 0. 0. 0. 1. 1. 0. 0. 0. 0. 0. 0. 0. 1. 0. 1. 1. 1. 1. 1. 1.\n",
      " 1. 1. 1. 1. 0. 0. 1. 1. 0. 0. 1. 1.]\n"
     ]
    }
   ],
   "source": [
    "# Prediction of data is done for NB(Naive Bayes) algorithm.\n",
    "obj.NB_predic()"
   ]
  },
  {
   "cell_type": "code",
   "execution_count": 69,
   "metadata": {},
   "outputs": [
    {
     "name": "stderr",
     "output_type": "stream",
     "text": [
      "C:\\Users\\UTSAV\\Anaconda3\\lib\\site-packages\\sklearn\\linear_model\\logistic.py:433: FutureWarning: Default solver will be changed to 'lbfgs' in 0.22. Specify a solver to silence this warning.\n",
      "  FutureWarning)\n"
     ]
    },
    {
     "name": "stdout",
     "output_type": "stream",
     "text": [
      "Predicted values =  [0. 1. 0. 0. 0. 1. 0. 1. 0. 1. 0. 0. 0. 0. 0. 1. 1. 1. 0. 1. 0. 0. 1. 1.\n",
      " 1. 0. 0. 1. 0. 0. 1. 1. 1. 1. 0. 0. 0. 0. 1. 0. 0. 1. 0. 1. 1. 1. 1. 1.\n",
      " 1. 1. 0. 1. 0. 0. 0. 0. 1. 0. 0. 0. 1. 1. 1. 0. 1. 1. 1. 0. 0. 1. 0. 0.\n",
      " 0. 0. 1. 0. 1. 1. 0. 0. 1. 0. 1. 1. 0. 1. 1. 0. 0. 0. 0. 0. 0. 0. 0. 1.\n",
      " 0. 0. 0. 0. 1. 1. 0. 0. 1. 0. 1. 0. 0. 0. 0. 1. 0. 0. 0. 1. 0. 0. 0. 0.\n",
      " 0. 0. 1. 1. 1. 0. 0. 0. 0. 0. 1. 0. 1. 0. 0. 1. 0. 0. 0. 1. 0. 0. 0. 1.\n",
      " 1. 0. 0. 0. 0. 1. 0. 0. 0. 1. 0. 0. 1. 1. 0. 0. 1. 0. 0. 0. 1. 1. 1. 1.\n",
      " 0. 1. 0. 0. 0. 0. 0. 1. 0. 0. 0. 1. 0. 0. 0. 0. 1. 0. 0. 0. 0. 0. 1. 0.\n",
      " 1. 0. 1. 1. 1. 0. 1. 1. 0. 0. 0. 0. 1. 1. 0. 1. 0. 0. 0. 0. 0. 0. 1. 0.\n",
      " 1. 0. 0. 0. 0. 1. 0. 1. 0. 0. 0. 0. 1. 1. 1. 0. 1. 1. 1. 1. 1. 1. 0. 1.\n",
      " 0. 1. 0. 1. 0. 0. 0. 0. 0. 0. 0. 0.]\n"
     ]
    }
   ],
   "source": [
    "# Prediction of data is done for LR algorithm.\n",
    "obj.LR_predic()"
   ]
  },
  {
   "cell_type": "code",
   "execution_count": null,
   "metadata": {},
   "outputs": [],
   "source": []
  }
 ],
 "metadata": {
  "kernelspec": {
   "display_name": "Python 3",
   "language": "python",
   "name": "python3"
  },
  "language_info": {
   "codemirror_mode": {
    "name": "ipython",
    "version": 3
   },
   "file_extension": ".py",
   "mimetype": "text/x-python",
   "name": "python",
   "nbconvert_exporter": "python",
   "pygments_lexer": "ipython3",
   "version": "3.7.3"
  }
 },
 "nbformat": 4,
 "nbformat_minor": 2
}
